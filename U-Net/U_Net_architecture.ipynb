{
  "nbformat": 4,
  "nbformat_minor": 0,
  "metadata": {
    "colab": {
      "name": "U-Net architecture",
      "provenance": []
    },
    "kernelspec": {
      "name": "python3",
      "display_name": "Python 3"
    },
    "accelerator": "GPU"
  },
  "cells": [
    {
      "cell_type": "markdown",
      "metadata": {
        "id": "0h90DRtsf0nt",
        "colab_type": "text"
      },
      "source": [
        "#**U-Net Implementation**\n",
        "Importing necessary libraries"
      ]
    },
    {
      "cell_type": "code",
      "metadata": {
        "id": "NAINgOvDkAt5",
        "colab_type": "code",
        "colab": {}
      },
      "source": [
        "import os\n",
        "import torch\n",
        "import torch.nn as nn"
      ],
      "execution_count": 1,
      "outputs": []
    },
    {
      "cell_type": "markdown",
      "metadata": {
        "id": "Qpv9lbppgGYp",
        "colab_type": "text"
      },
      "source": [
        "U-Net contains downsampling and upsampling path. Downsampling path consists of 2 3x3 convolution layers each followed by ReLU activation function. It is then followed by max-pool layer with stride of 2. \n",
        "\n",
        "In the upsampling path, cropping is required due to loss of border due to every convolution. Along with cropping of image, two 3x3 convolution operation is performed along with ReLU which is followed by max-pool with stride 2 is performed. It is then followed by up-convolution. \n",
        "\n",
        "Final layer of the network consists of 1x1 convolution that map each 64 component feature vector into desired number of classes.\n",
        "U-Net architecture consists of total of 23 convolution layers.\n",
        "\n",
        "\n",
        "\n",
        "![alt text](https://lmb.informatik.uni-freiburg.de/people/ronneber/u-net/u-net-architecture.png)"
      ]
    },
    {
      "cell_type": "code",
      "metadata": {
        "id": "YIAMf9KGPPo_",
        "colab_type": "code",
        "colab": {}
      },
      "source": [
        "def double_convolution(input_channels, output_channels):\n",
        "  conv = nn.Sequential(\n",
        "      nn.Conv2d(input_channels, output_channels, kernel_size=3),\n",
        "      nn.ReLU(inplace=True),\n",
        "      nn.Conv2d(output_channels, output_channels, kernel_size=3),\n",
        "      nn.ReLU(inplace=True)\n",
        "  )\n",
        "  return conv"
      ],
      "execution_count": 7,
      "outputs": []
    },
    {
      "cell_type": "code",
      "metadata": {
        "id": "Kht36OFxQ5Dh",
        "colab_type": "code",
        "colab": {}
      },
      "source": [
        "def cropimg(start_tensor, end_tensor):\n",
        "  ssize = start_tensor.size()[2]\n",
        "  esize = end_tensor.size()[2]\n",
        "\n",
        "  delta = ssize - esize\n",
        "  delta = delta//2\n",
        "\n",
        "  return start_tensor[:,:,delta:ssize-delta, delta:ssize-delta]"
      ],
      "execution_count": 18,
      "outputs": []
    },
    {
      "cell_type": "code",
      "metadata": {
        "id": "Fda75RIaROIi",
        "colab_type": "code",
        "colab": {}
      },
      "source": [
        "class UNet(nn.Module):\n",
        "  def __init__(self):\n",
        "    super().__init__()\n",
        "\n",
        "    self.maxpool_2x2 = nn.MaxPool2d(kernel_size=2, stride=2)\n",
        "    self.dconv1 = double_convolution(1,64)\n",
        "    self.dconv2 = double_convolution(64, 128)\n",
        "    self.dconv3 = double_convolution(128,256)\n",
        "    self.dconv4 = double_convolution(256,512)\n",
        "    self.dconv5 = double_convolution(512, 1024)\n",
        "\n",
        "    # Upsampling\n",
        "    self.uptrans1 = nn.ConvTranspose2d(\n",
        "        in_channels = 1024,\n",
        "        out_channels = 512,\n",
        "        kernel_size = 2,\n",
        "        stride = 2\n",
        "    )\n",
        "\n",
        "    self.upconv1 = double_convolution(1024, 512)\n",
        "    \n",
        "    self.uptrans2 = nn.ConvTranspose2d(\n",
        "        in_channels = 512,\n",
        "        out_channels = 256,\n",
        "        kernel_size = 2,\n",
        "        stride = 2\n",
        "    )\n",
        "\n",
        "    self.upconv2 = double_convolution(512, 256)\n",
        "\n",
        "    self.uptrans3 = nn.ConvTranspose2d(\n",
        "        in_channels = 256,\n",
        "        out_channels = 128,\n",
        "        kernel_size = 2,\n",
        "        stride = 2\n",
        "    )\n",
        "\n",
        "    self.upconv3 = double_convolution(256, 128)\n",
        "\n",
        "    self.uptrans4 = nn.ConvTranspose2d(\n",
        "        in_channels = 128,\n",
        "        out_channels = 64,\n",
        "        kernel_size = 2,\n",
        "        stride = 2\n",
        "    )\n",
        "\n",
        "    self.upconv4 = double_convolution(128, 64)\n",
        "\n",
        "    self.out = nn.Conv2d(\n",
        "        in_channels=64,\n",
        "        out_channels = 1,\n",
        "        kernel_size = 1\n",
        "    )\n",
        "\n",
        "  def forward(self, image):\n",
        "    # Contracting path\n",
        "    x1 = self.dconv1(image)\n",
        "    x2 = self.maxpool_2x2(x1)\n",
        "    x3 = self.dconv2(x2)\n",
        "    x4 = self.maxpool_2x2(x3)\n",
        "    x5 = self.dconv3(x4)\n",
        "    x6 = self.maxpool_2x2(x5)\n",
        "    x7 = self.dconv4(x6)\n",
        "    x8 = self.maxpool_2x2(x7)\n",
        "    x9 = self.dconv5(x8)\n",
        "\n",
        "    # Expanding path\n",
        "    x = self.uptrans1(x9)\n",
        "    y = cropimg(x7,x)\n",
        "    x = self.upconv1(torch.cat([x,y],1))\n",
        "\n",
        "    x = self.uptrans2(x)\n",
        "    y = cropimg(x5, x)\n",
        "    x = self.upconv2(torch.cat([x,y],1))\n",
        "\n",
        "    x = self.uptrans3(x)\n",
        "    y = cropimg(x3, x)\n",
        "    x = self.upconv3(torch.cat([x,y],1))\n",
        "\n",
        "    x = self.uptrans4(x)\n",
        "    y = cropimg(x1, x)\n",
        "    x = self.upconv4(torch.cat([x,y],1))\n",
        "\n",
        "    x = self.out(x)\n",
        "    print(x.size())\n",
        "    return x\n"
      ],
      "execution_count": 25,
      "outputs": []
    },
    {
      "cell_type": "code",
      "metadata": {
        "id": "fdutbYuZcnBB",
        "colab_type": "code",
        "colab": {
          "base_uri": "https://localhost:8080/",
          "height": 34
        },
        "outputId": "75c8c616-c5fa-4ea7-ea4e-6091eadb5083"
      },
      "source": [
        "if __name__ == '__main__':\n",
        "  image = torch.rand((1,1,572,572))\n",
        "  model = UNet()\n",
        "  x = model(image)"
      ],
      "execution_count": 48,
      "outputs": [
        {
          "output_type": "stream",
          "text": [
            "torch.Size([1, 1, 388, 388])\n"
          ],
          "name": "stdout"
        }
      ]
    },
    {
      "cell_type": "code",
      "metadata": {
        "id": "H7QnMm5ahDz-",
        "colab_type": "code",
        "colab": {
          "base_uri": "https://localhost:8080/",
          "height": 1000
        },
        "outputId": "ccfb4fbd-eb3f-4083-f2b2-5f6369f113c2"
      },
      "source": [
        "print(model)"
      ],
      "execution_count": 57,
      "outputs": [
        {
          "output_type": "stream",
          "text": [
            "UNet(\n",
            "  (maxpool_2x2): MaxPool2d(kernel_size=2, stride=2, padding=0, dilation=1, ceil_mode=False)\n",
            "  (dconv1): Sequential(\n",
            "    (0): Conv2d(1, 64, kernel_size=(3, 3), stride=(1, 1))\n",
            "    (1): ReLU(inplace=True)\n",
            "    (2): Conv2d(64, 64, kernel_size=(3, 3), stride=(1, 1))\n",
            "    (3): ReLU(inplace=True)\n",
            "  )\n",
            "  (dconv2): Sequential(\n",
            "    (0): Conv2d(64, 128, kernel_size=(3, 3), stride=(1, 1))\n",
            "    (1): ReLU(inplace=True)\n",
            "    (2): Conv2d(128, 128, kernel_size=(3, 3), stride=(1, 1))\n",
            "    (3): ReLU(inplace=True)\n",
            "  )\n",
            "  (dconv3): Sequential(\n",
            "    (0): Conv2d(128, 256, kernel_size=(3, 3), stride=(1, 1))\n",
            "    (1): ReLU(inplace=True)\n",
            "    (2): Conv2d(256, 256, kernel_size=(3, 3), stride=(1, 1))\n",
            "    (3): ReLU(inplace=True)\n",
            "  )\n",
            "  (dconv4): Sequential(\n",
            "    (0): Conv2d(256, 512, kernel_size=(3, 3), stride=(1, 1))\n",
            "    (1): ReLU(inplace=True)\n",
            "    (2): Conv2d(512, 512, kernel_size=(3, 3), stride=(1, 1))\n",
            "    (3): ReLU(inplace=True)\n",
            "  )\n",
            "  (dconv5): Sequential(\n",
            "    (0): Conv2d(512, 1024, kernel_size=(3, 3), stride=(1, 1))\n",
            "    (1): ReLU(inplace=True)\n",
            "    (2): Conv2d(1024, 1024, kernel_size=(3, 3), stride=(1, 1))\n",
            "    (3): ReLU(inplace=True)\n",
            "  )\n",
            "  (uptrans1): ConvTranspose2d(1024, 512, kernel_size=(2, 2), stride=(2, 2))\n",
            "  (upconv1): Sequential(\n",
            "    (0): Conv2d(1024, 512, kernel_size=(3, 3), stride=(1, 1))\n",
            "    (1): ReLU(inplace=True)\n",
            "    (2): Conv2d(512, 512, kernel_size=(3, 3), stride=(1, 1))\n",
            "    (3): ReLU(inplace=True)\n",
            "  )\n",
            "  (uptrans2): ConvTranspose2d(512, 256, kernel_size=(2, 2), stride=(2, 2))\n",
            "  (upconv2): Sequential(\n",
            "    (0): Conv2d(512, 256, kernel_size=(3, 3), stride=(1, 1))\n",
            "    (1): ReLU(inplace=True)\n",
            "    (2): Conv2d(256, 256, kernel_size=(3, 3), stride=(1, 1))\n",
            "    (3): ReLU(inplace=True)\n",
            "  )\n",
            "  (uptrans3): ConvTranspose2d(256, 128, kernel_size=(2, 2), stride=(2, 2))\n",
            "  (upconv3): Sequential(\n",
            "    (0): Conv2d(256, 128, kernel_size=(3, 3), stride=(1, 1))\n",
            "    (1): ReLU(inplace=True)\n",
            "    (2): Conv2d(128, 128, kernel_size=(3, 3), stride=(1, 1))\n",
            "    (3): ReLU(inplace=True)\n",
            "  )\n",
            "  (uptrans4): ConvTranspose2d(128, 64, kernel_size=(2, 2), stride=(2, 2))\n",
            "  (upconv4): Sequential(\n",
            "    (0): Conv2d(128, 64, kernel_size=(3, 3), stride=(1, 1))\n",
            "    (1): ReLU(inplace=True)\n",
            "    (2): Conv2d(64, 64, kernel_size=(3, 3), stride=(1, 1))\n",
            "    (3): ReLU(inplace=True)\n",
            "  )\n",
            "  (out): Conv2d(64, 1, kernel_size=(1, 1), stride=(1, 1))\n",
            ")\n"
          ],
          "name": "stdout"
        }
      ]
    },
    {
      "cell_type": "code",
      "metadata": {
        "id": "G2da7x2alB2i",
        "colab_type": "code",
        "colab": {}
      },
      "source": [
        ""
      ],
      "execution_count": null,
      "outputs": []
    }
  ]
}